{
 "cells": [
  {
   "cell_type": "markdown",
   "id": "be31b2ce-9fa6-4094-91af-fc8758ce9ada",
   "metadata": {},
   "source": [
    "Q1. Explain GET and POST methods."
   ]
  },
  {
   "cell_type": "markdown",
   "id": "0e8ec61f-a272-4751-a380-59cb48b9693d",
   "metadata": {},
   "source": [
    "Ans :- \n",
    "       Get and Post methods are the HTTP request methods used inside the form tag to send form data to the server.\n",
    "HTTP protocol enables the communication between the client and the server where a browser can be the client, and an application running on a computer system that hosts your website can be the server.\n",
    "\n",
    "GET :-\n",
    "       The information sent from an HTML form using the GET method is visible to everyone in the browser's address bar, which means that all the variable names and their values will be displayed in the URL.\n",
    "       \n",
    "POST :-\n",
    "       Similar to the GET method, the POST method is also used to submit the HTML form data. But the data submitted by this method is collected by the predefined superglobal variable POST instead of GET."
   ]
  },
  {
   "cell_type": "markdown",
   "id": "860e07be-0842-4170-b43d-51648f93173b",
   "metadata": {},
   "source": [
    "Q2. Why is request used in Flask?"
   ]
  },
  {
   "cell_type": "markdown",
   "id": "84a61be6-f706-4d10-a673-602b71710e67",
   "metadata": {},
   "source": [
    "Ans :-\n",
    "      To access the incoming data in Flask, you have to use the request object. The request object holds all incoming data from the request, which includes the mimetype, referrer, IP address, raw data, HTTP method, and headers, among other things."
   ]
  },
  {
   "cell_type": "markdown",
   "id": "2cf5dd01-9119-449c-b4dc-ab32d0f492bf",
   "metadata": {},
   "source": [
    "Q3. Why is redirect() used in Flask?"
   ]
  },
  {
   "cell_type": "markdown",
   "id": "3096274f-9a5e-4254-b62d-8ec0a359aa5f",
   "metadata": {},
   "source": [
    "Ans :-\n",
    "      Redirection in Flask can be done by returning a redirect response object, created by invoking the redirect() function. The same method is used for redirecting to other routes on the same application and external websites."
   ]
  },
  {
   "cell_type": "markdown",
   "id": "f516adf3-3421-4dd2-a9c0-3ad5ab3d1709",
   "metadata": {},
   "source": [
    "Q4. What are templates in Flask? Why is the render_template() function used?"
   ]
  },
  {
   "cell_type": "markdown",
   "id": "db549d33-5d63-4277-bac5-e6fd66f7204e",
   "metadata": {},
   "source": [
    "Ans :-\n",
    "      Templates are files that contain static data as well as placeholders for dynamic data. A template is rendered with specific data to produce a final document. Flask uses the Jinja template library to render templates. In your application, you will use templates to render HTML which will display in the user's browser.\n",
    "      \n",
    "Flask provides us the render_template() function which can be used to render the external HTML file to be returned as the response from the view function."
   ]
  },
  {
   "cell_type": "code",
   "execution_count": null,
   "id": "c2e996db-9b9c-4705-9c10-3f14889c482d",
   "metadata": {},
   "outputs": [],
   "source": []
  }
 ],
 "metadata": {
  "kernelspec": {
   "display_name": "Python 3 (ipykernel)",
   "language": "python",
   "name": "python3"
  },
  "language_info": {
   "codemirror_mode": {
    "name": "ipython",
    "version": 3
   },
   "file_extension": ".py",
   "mimetype": "text/x-python",
   "name": "python",
   "nbconvert_exporter": "python",
   "pygments_lexer": "ipython3",
   "version": "3.10.8"
  }
 },
 "nbformat": 4,
 "nbformat_minor": 5
}
